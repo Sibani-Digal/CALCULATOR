{
 "cells": [
  {
   "cell_type": "markdown",
   "id": "bb63f99b",
   "metadata": {},
   "source": [
    "# CALCULATOR"
   ]
  },
  {
   "cell_type": "code",
   "execution_count": 6,
   "id": "1b66b791",
   "metadata": {},
   "outputs": [
    {
     "name": "stdout",
     "output_type": "stream",
     "text": [
      "Enter first number :56\n",
      "Enter the second number :41\n",
      "Enter operator :*\n",
      "Results :\n",
      "56.0 * 41.0 = 2296.0\n"
     ]
    }
   ],
   "source": [
    "##Final code\n",
    "\n",
    "num1= float(input(\"Enter first number :\"))\n",
    "num2= float(input(\"Enter the second number :\"))\n",
    "\n",
    "op= input(\"Enter operator :\")\n",
    "\n",
    "def add(num1,num2):\n",
    "    result = num1 + num2\n",
    "    print(\"Result :\")\n",
    "    print(num1,op,num2,\"=\",result)\n",
    "def subtract(num1,num2):\n",
    "    result = num1 - num2\n",
    "    print(\"Result :\")\n",
    "    print(num1,op,num2,\"=\",result)\n",
    "def multiply(num1,num2):\n",
    "    result = num1 * num2\n",
    "    print(\"Results :\")\n",
    "    print(num1,op,num2,\"=\",result)\n",
    "def division(num1,num2):\n",
    "    result = num1 / num2\n",
    "    print(\"Result :\")\n",
    "    print(num1,op,num2,\"=\",result)\n",
    "def modulus(num1,num2):\n",
    "    result = num1 % num2\n",
    "    print(\"Result :\")\n",
    "    print(num1,op,num2,\"=\",result)\n",
    "def floordivision(num1,num2):\n",
    "    result =num1 // num2\n",
    "    print(\"Result\")\n",
    "    print(num1,op,num2,\"=\",result)\n",
    "    \n",
    "if(op==\"+\"):\n",
    "    add(num1,num2)\n",
    "    \n",
    "elif(op==\"-\"):\n",
    "    subtraction(num1,num2)\n",
    "    \n",
    "elif(op==\"*\"):\n",
    "    multiply(num1,num2)\n",
    "\n",
    "elif(op==\"/\"):\n",
    "    divide(num1,num2)\n",
    "\n",
    "elif(op==\"%\"):\n",
    "    modulus(num1,num2)\n",
    "    \n",
    "elif(op==\"//\"):\n",
    "    floordivision(num1,num2)\n",
    "    \n",
    "else:\n",
    "    print(\"INVALID OPERATION.\")\n",
    "    "
   ]
  },
  {
   "cell_type": "code",
   "execution_count": null,
   "id": "4ccc9f4d",
   "metadata": {},
   "outputs": [],
   "source": []
  }
 ],
 "metadata": {
  "kernelspec": {
   "display_name": "Python 3",
   "language": "python",
   "name": "python3"
  },
  "language_info": {
   "codemirror_mode": {
    "name": "ipython",
    "version": 3
   },
   "file_extension": ".py",
   "mimetype": "text/x-python",
   "name": "python",
   "nbconvert_exporter": "python",
   "pygments_lexer": "ipython3",
   "version": "3.8.8"
  }
 },
 "nbformat": 4,
 "nbformat_minor": 5
}
